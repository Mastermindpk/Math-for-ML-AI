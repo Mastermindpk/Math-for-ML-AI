{
  "nbformat": 4,
  "nbformat_minor": 0,
  "metadata": {
    "kernelspec": {
      "display_name": "Python [default]",
      "language": "python",
      "name": "python2"
    },
    "language_info": {
      "codemirror_mode": {
        "name": "ipython",
        "version": 2
      },
      "file_extension": ".py",
      "mimetype": "text/x-python",
      "name": "python",
      "nbconvert_exporter": "python",
      "pygments_lexer": "ipython2",
      "version": "2.7.13"
    },
    "colab": {
      "name": "Math-Lecture-1-scalar-vector-tensor.ipynb",
      "provenance": []
    }
  },
  "cells": [
    {
      "cell_type": "code",
      "metadata": {
        "id": "A5FhoezwdwD-",
        "colab": {
          "base_uri": "https://localhost:8080/"
        },
        "outputId": "be360345-c0b7-44ff-c0d7-2cfb037c6d5b"
      },
      "source": [
        "# 2D array \r\n",
        "rows, cols = (5, 5) \r\n",
        "arr=[] \r\n",
        "for i in range(cols): \r\n",
        "    col = [] \r\n",
        "    for j in range(rows): \r\n",
        "        col.append(0) \r\n",
        "    arr.append(col) \r\n",
        "print(arr) "
      ],
      "execution_count": null,
      "outputs": [
        {
          "output_type": "stream",
          "text": [
            "[[0, 0, 0, 0, 0], [0, 0, 0, 0, 0], [0, 0, 0, 0, 0], [0, 0, 0, 0, 0], [0, 0, 0, 0, 0]]\n"
          ],
          "name": "stdout"
        }
      ]
    },
    {
      "cell_type": "code",
      "metadata": {
        "colab": {
          "base_uri": "https://localhost:8080/",
          "height": 131
        },
        "id": "y1RJ4p8mc7Ff",
        "outputId": "d72c41a4-1c8e-4b14-d4f3-c8b65eb711f0"
      },
      "source": [
        "for x in range(m):  # no of rows\r\n",
        "  for y in  range(n):    # no of columns\r\n",
        "      print(\"1\", end=\" \")\r\n",
        "  print(\"\\n\")"
      ],
      "execution_count": null,
      "outputs": [
        {
          "output_type": "error",
          "ename": "SyntaxError",
          "evalue": "ignored",
          "traceback": [
            "\u001b[0;36m  File \u001b[0;32m\"<ipython-input-55-1846eb04fad4>\"\u001b[0;36m, line \u001b[0;32m3\u001b[0m\n\u001b[0;31m    print(\"1\",end=\" \")\u001b[0m\n\u001b[0m                 ^\u001b[0m\n\u001b[0;31mSyntaxError\u001b[0m\u001b[0;31m:\u001b[0m invalid syntax\n"
          ]
        }
      ]
    },
    {
      "cell_type": "markdown",
      "metadata": {
        "id": "ulTYHP4Dn_hq"
      },
      "source": [
        "#Linear Algebra\n",
        "### Scalars, Vectors, Matrices, and Tensors\n",
        "\n",
        "This first project supplements the content covered are, \"Scalars, Vectors, Matrices, and Tensors\".  We will cover the basics of linear algebra and start practicing notation and simple operations. We will be using NumPy, the fundamental package for scientific computing with Python, to create and manipulate arrays. \n",
        "\n",
        "### 1. Getting Started With NumPy\n",
        "\n",
        "To ensure you have the library installed correctly, import NumPy and print the version number using the cell below. "
      ]
    },
    {
      "cell_type": "code",
      "metadata": {
        "id": "Bu9SNipUohh7"
      },
      "source": [
        "https://numpy.org/doc/stable/reference/generated/numpy.dot.html"
      ],
      "execution_count": null,
      "outputs": []
    },
    {
      "cell_type": "code",
      "metadata": {
        "id": "q5ZVqNYQoTfW"
      },
      "source": [
        "#sys module provides information about constants, functions \n",
        "#and methods of the Python interpreter."
      ],
      "execution_count": null,
      "outputs": []
    },
    {
      "cell_type": "code",
      "metadata": {
        "colab": {
          "base_uri": "https://localhost:8080/"
        },
        "id": "LomV3R7gn_hq",
        "outputId": "7ff35992-8d12-4fe2-ae89-16612dd3de8c"
      },
      "source": [
        "import sys\n",
        "import numpy as np\n",
        "\n",
        "print 'Python: {}'.format(sys.version)\n",
        "print 'NumPy: {}'.format(np.__version__)"
      ],
      "execution_count": null,
      "outputs": [
        {
          "output_type": "stream",
          "text": [
            "Python: 2.7.17 (default, Sep 30 2020, 13:38:04) \n",
            "[GCC 7.5.0]\n",
            "NumPy: 1.16.4\n"
          ],
          "name": "stdout"
        }
      ]
    },
    {
      "cell_type": "markdown",
      "metadata": {
        "id": "YD36oE_Zn_hs"
      },
      "source": [
        "To defining a scalar, which is a single number or value, simply use an equal sign in python."
      ]
    },
    {
      "cell_type": "code",
      "metadata": {
        "colab": {
          "base_uri": "https://localhost:8080/"
        },
        "id": "fPyheqK9n_ht",
        "outputId": "ffd916cd-f595-49d3-e2b8-3edb772707a1"
      },
      "source": [
        "# a scalar\n",
        "x = 6\n",
        "x"
      ],
      "execution_count": null,
      "outputs": [
        {
          "output_type": "execute_result",
          "data": {
            "text/plain": [
              "6"
            ]
          },
          "metadata": {
            "tags": []
          },
          "execution_count": 2
        }
      ]
    },
    {
      "cell_type": "markdown",
      "metadata": {
        "id": "bWKmp533n_ht"
      },
      "source": [
        "With NumPy, a vector can be defined using a simple array function."
      ]
    },
    {
      "cell_type": "code",
      "metadata": {
        "colab": {
          "base_uri": "https://localhost:8080/"
        },
        "id": "2RQF_2N9n_ht",
        "outputId": "402ddc37-84bf-4bc0-a807-41b2abf38106"
      },
      "source": [
        "# a vector\n",
        "x = np.array((1,2,3))\n",
        "x"
      ],
      "execution_count": null,
      "outputs": [
        {
          "output_type": "execute_result",
          "data": {
            "text/plain": [
              "array([1, 2, 3])"
            ]
          },
          "metadata": {
            "tags": []
          },
          "execution_count": 17
        }
      ]
    },
    {
      "cell_type": "markdown",
      "metadata": {
        "id": "drRGH3Upn_hu"
      },
      "source": [
        "NumPy arrays have attributes that can tell us helpful information, such as the shape or size of the vector."
      ]
    },
    {
      "cell_type": "code",
      "metadata": {
        "colab": {
          "base_uri": "https://localhost:8080/"
        },
        "id": "H4OzEZwCn_hu",
        "outputId": "cc94fd47-5ee3-4e38-a053-e52b9089b19b"
      },
      "source": [
        "print 'Vector dimensions: {}'.format(x.shape)\n",
        "print 'Vector size: {}'.format(x.size)"
      ],
      "execution_count": null,
      "outputs": [
        {
          "output_type": "stream",
          "text": [
            "Vector dimensions: (3,)\n",
            "Vector size: 3\n"
          ],
          "name": "stdout"
        }
      ]
    },
    {
      "cell_type": "code",
      "metadata": {
        "colab": {
          "base_uri": "https://localhost:8080/"
        },
        "id": "mSgH3baAkNkJ",
        "outputId": "cb3335db-de97-470d-8adf-a578f541658a"
      },
      "source": [
        "xx=x.reshape(-1, 3)\n",
        "xx.shape\n",
        "xx"
      ],
      "execution_count": null,
      "outputs": [
        {
          "output_type": "execute_result",
          "data": {
            "text/plain": [
              "array([[1, 2, 3]])"
            ]
          },
          "metadata": {
            "tags": []
          },
          "execution_count": 15
        }
      ]
    },
    {
      "cell_type": "markdown",
      "metadata": {
        "id": "lYY1Ivrhn_hu"
      },
      "source": [
        "Defining a matrix is just as easy! Simply use brackets and commas to separate rows. "
      ]
    },
    {
      "cell_type": "code",
      "metadata": {
        "colab": {
          "base_uri": "https://localhost:8080/"
        },
        "id": "egiz051Ln_hu",
        "outputId": "30dc388b-8e33-49c3-bc97-0269cdb08e5f"
      },
      "source": [
        "x = np.matrix([[1,2,3],[4,5,6],[7,8,9]])\n",
        "x"
      ],
      "execution_count": null,
      "outputs": [
        {
          "output_type": "execute_result",
          "data": {
            "text/plain": [
              "matrix([[1, 2, 3],\n",
              "        [4, 5, 6],\n",
              "        [7, 8, 9]])"
            ]
          },
          "metadata": {
            "tags": []
          },
          "execution_count": 18
        }
      ]
    },
    {
      "cell_type": "code",
      "metadata": {
        "colab": {
          "base_uri": "https://localhost:8080/"
        },
        "id": "DZN7tN4Sn_hv",
        "outputId": "6c745054-93d8-4416-a213-d8e370c1c420"
      },
      "source": [
        "print 'Matrix dimensions: {}'.format(x.shape)\n",
        "print 'Matrix size: {}'.format(x.size)"
      ],
      "execution_count": null,
      "outputs": [
        {
          "output_type": "stream",
          "text": [
            "Matrix dimensions: (3, 3)\n",
            "Matrix size: 9\n"
          ],
          "name": "stdout"
        }
      ]
    },
    {
      "cell_type": "markdown",
      "metadata": {
        "id": "89nrAM9rn_hv"
      },
      "source": [
        "NumPy makes it easy to quickly define arrays using the desired dimensions. For example, if we wanted to make a 3x3 matrix, we could issue the command in the follow cell:"
      ]
    },
    {
      "cell_type": "code",
      "metadata": {
        "id": "-2Zyc9WTn_hv",
        "colab": {
          "base_uri": "https://localhost:8080/"
        },
        "outputId": "3d6d45b8-6b8c-44ca-ccfa-a41363998ff6"
      },
      "source": [
        "x = np.ones((5,5))\n",
        "x"
      ],
      "execution_count": null,
      "outputs": [
        {
          "output_type": "execute_result",
          "data": {
            "text/plain": [
              "array([[1., 1., 1., 1., 1.],\n",
              "       [1., 1., 1., 1., 1.],\n",
              "       [1., 1., 1., 1., 1.],\n",
              "       [1., 1., 1., 1., 1.],\n",
              "       [1., 1., 1., 1., 1.]])"
            ]
          },
          "metadata": {
            "tags": []
          },
          "execution_count": 25
        }
      ]
    },
    {
      "cell_type": "code",
      "metadata": {
        "id": "VvSOjqfsn_hv",
        "colab": {
          "base_uri": "https://localhost:8080/"
        },
        "outputId": "ec53c840-5f0d-4c1e-f3b8-d14edd952d2e"
      },
      "source": [
        "print 'Matrix dimensions: {}'.format(x.shape)\n",
        "print 'Matrix size: {}'.format(x.size)"
      ],
      "execution_count": null,
      "outputs": [
        {
          "output_type": "stream",
          "text": [
            "Matrix dimensions: (3, 3)\n",
            "Matrix size: 9\n"
          ],
          "name": "stdout"
        }
      ]
    },
    {
      "cell_type": "markdown",
      "metadata": {
        "id": "JFCmFv7Tn_hw"
      },
      "source": [
        "While it's harder to visualize as the number of axes goes up, it's trivial in NumPy to define a tensor of higher dimensions. For example, a 3-D tensor is created by the following cell. 4-D, 5-D, and 6-D tensors are just as easy to define! "
      ]
    },
    {
      "cell_type": "code",
      "metadata": {
        "id": "lXkOkJ8Qn_hw",
        "colab": {
          "base_uri": "https://localhost:8080/"
        },
        "outputId": "d496b768-13f1-4007-c63b-f47948ad1588"
      },
      "source": [
        "x = np.ones((3,3,3))\n",
        "x"
      ],
      "execution_count": null,
      "outputs": [
        {
          "output_type": "execute_result",
          "data": {
            "text/plain": [
              "array([[[1., 1., 1.],\n",
              "        [1., 1., 1.],\n",
              "        [1., 1., 1.]],\n",
              "\n",
              "       [[1., 1., 1.],\n",
              "        [1., 1., 1.],\n",
              "        [1., 1., 1.]],\n",
              "\n",
              "       [[1., 1., 1.],\n",
              "        [1., 1., 1.],\n",
              "        [1., 1., 1.]]])"
            ]
          },
          "metadata": {
            "tags": []
          },
          "execution_count": 27
        }
      ]
    },
    {
      "cell_type": "code",
      "metadata": {
        "id": "d5pmjJqVn_hw",
        "colab": {
          "base_uri": "https://localhost:8080/"
        },
        "outputId": "2ca90502-8718-4575-f6fb-582c0a300e7f"
      },
      "source": [
        "print 'Tensor dimensions: {}'.format(x.shape)\n",
        "print 'Tensor size: {}'.format(x.size)"
      ],
      "execution_count": null,
      "outputs": [
        {
          "output_type": "stream",
          "text": [
            "Tensor dimensions: (3, 3, 3)\n",
            "Tensor size: 27\n"
          ],
          "name": "stdout"
        }
      ]
    },
    {
      "cell_type": "markdown",
      "metadata": {
        "id": "9omdoQ1xn_hw"
      },
      "source": [
        "### 2. Indexing\n",
        "\n",
        "Familiarize yourself with NumPy's indexing conventions using the following cells"
      ]
    },
    {
      "cell_type": "code",
      "metadata": {
        "id": "qJsCkL3On_hw",
        "colab": {
          "base_uri": "https://localhost:8080/"
        },
        "outputId": "3a63512d-c7d7-45ac-c20a-d3403d8cd3f2"
      },
      "source": [
        "A = np.ones((5,5), dtype = np.int)\n",
        "print A"
      ],
      "execution_count": null,
      "outputs": [
        {
          "output_type": "stream",
          "text": [
            "[[1 1 1 1 1]\n",
            " [1 1 1 1 1]\n",
            " [1 1 1 1 1]\n",
            " [1 1 1 1 1]\n",
            " [1 1 1 1 1]]\n"
          ],
          "name": "stdout"
        }
      ]
    },
    {
      "cell_type": "code",
      "metadata": {
        "id": "tBhni3W0QXx3"
      },
      "source": [
        "A[0:1,2:4]"
      ],
      "execution_count": null,
      "outputs": []
    },
    {
      "cell_type": "code",
      "metadata": {
        "id": "0E2Mmoo8n_hx",
        "colab": {
          "base_uri": "https://localhost:8080/"
        },
        "outputId": "17f6fb8c-bb3a-4dda-9cdc-2967b0e69426"
      },
      "source": [
        "# indexing starts at 0\n",
        "A[0,1] = 2\n",
        "print A"
      ],
      "execution_count": null,
      "outputs": [
        {
          "output_type": "stream",
          "text": [
            "[[1 2 1 1 1]\n",
            " [1 1 1 1 1]\n",
            " [1 1 1 1 1]\n",
            " [1 1 1 1 1]\n",
            " [1 1 1 1 1]]\n"
          ],
          "name": "stdout"
        }
      ]
    },
    {
      "cell_type": "code",
      "metadata": {
        "id": "zNlzysPLn_hx",
        "colab": {
          "base_uri": "https://localhost:8080/"
        },
        "outputId": "6e493abc-d1cb-4911-f2f3-92cd7eac3f5a"
      },
      "source": [
        "# Note! NumPy using rows, columns convention\n",
        "# assign entire rows or columns using a :\n",
        "A[:,0] = 3\n",
        "print A"
      ],
      "execution_count": null,
      "outputs": [
        {
          "output_type": "stream",
          "text": [
            "[[[3 3 3 3 3]\n",
            "  [1 1 1 1 1]\n",
            "  [1 1 1 1 1]\n",
            "  [1 1 1 1 1]\n",
            "  [1 1 1 1 1]]\n",
            "\n",
            " [[3 3 3 3 3]\n",
            "  [1 1 1 1 1]\n",
            "  [1 1 1 1 1]\n",
            "  [1 1 1 1 1]\n",
            "  [1 1 1 1 1]]\n",
            "\n",
            " [[3 3 3 3 3]\n",
            "  [1 1 1 1 1]\n",
            "  [1 1 1 1 1]\n",
            "  [1 1 1 1 1]\n",
            "  [1 1 1 1 1]]\n",
            "\n",
            " [[3 3 3 3 3]\n",
            "  [1 1 1 1 1]\n",
            "  [1 1 1 1 1]\n",
            "  [1 1 1 1 1]\n",
            "  [1 1 1 1 1]]\n",
            "\n",
            " [[3 3 3 3 3]\n",
            "  [1 1 1 1 1]\n",
            "  [1 1 1 1 1]\n",
            "  [1 1 1 1 1]\n",
            "  [1 1 1 1 1]]]\n"
          ],
          "name": "stdout"
        }
      ]
    },
    {
      "cell_type": "code",
      "metadata": {
        "colab": {
          "base_uri": "https://localhost:8080/"
        },
        "id": "a-1dfacImALb",
        "outputId": "ac5ca09e-ca5d-4ea8-b673-0682cfadf732"
      },
      "source": [
        "np.zeros((3,3))"
      ],
      "execution_count": null,
      "outputs": [
        {
          "output_type": "execute_result",
          "data": {
            "text/plain": [
              "array([[0., 0., 0.],\n",
              "       [0., 0., 0.],\n",
              "       [0., 0., 0.]])"
            ]
          },
          "metadata": {
            "tags": []
          },
          "execution_count": 35
        }
      ]
    },
    {
      "cell_type": "code",
      "metadata": {
        "id": "KcqRVB4Rn_hx",
        "colab": {
          "base_uri": "https://localhost:8080/"
        },
        "outputId": "499d22b5-3ac1-4ecf-99c3-36db1ea783de"
      },
      "source": [
        "# for higher dimensions, simply add an index\n",
        "A = np.ones((5,5,5), dtype = np.int)\n",
        "\n",
        "# assign first row a new value\n",
        "A[:,0,0] = 6\n",
        "print A"
      ],
      "execution_count": null,
      "outputs": [
        {
          "output_type": "stream",
          "text": [
            "[[[6 1 1 1 1]\n",
            "  [1 1 1 1 1]\n",
            "  [1 1 1 1 1]\n",
            "  [1 1 1 1 1]\n",
            "  [1 1 1 1 1]]\n",
            "\n",
            " [[6 1 1 1 1]\n",
            "  [1 1 1 1 1]\n",
            "  [1 1 1 1 1]\n",
            "  [1 1 1 1 1]\n",
            "  [1 1 1 1 1]]\n",
            "\n",
            " [[6 1 1 1 1]\n",
            "  [1 1 1 1 1]\n",
            "  [1 1 1 1 1]\n",
            "  [1 1 1 1 1]\n",
            "  [1 1 1 1 1]]\n",
            "\n",
            " [[6 1 1 1 1]\n",
            "  [1 1 1 1 1]\n",
            "  [1 1 1 1 1]\n",
            "  [1 1 1 1 1]\n",
            "  [1 1 1 1 1]]\n",
            "\n",
            " [[6 1 1 1 1]\n",
            "  [1 1 1 1 1]\n",
            "  [1 1 1 1 1]\n",
            "  [1 1 1 1 1]\n",
            "  [1 1 1 1 1]]]\n"
          ],
          "name": "stdout"
        }
      ]
    },
    {
      "cell_type": "markdown",
      "metadata": {
        "id": "5YjMwXfXn_hx"
      },
      "source": [
        "### 3. Matrix Operations\n",
        "\n",
        "Let's practice matrix addition, subtraction, and multiplication."
      ]
    },
    {
      "cell_type": "code",
      "metadata": {
        "id": "rhYSdgctn_hx"
      },
      "source": [
        "A = np.matrix([[1,2],[3,4]])\n",
        "B = np.ones((2,2), dtype = np.int)"
      ],
      "execution_count": null,
      "outputs": []
    },
    {
      "cell_type": "code",
      "metadata": {
        "id": "y7puy_IKn_hx",
        "colab": {
          "base_uri": "https://localhost:8080/"
        },
        "outputId": "c1614b4c-e2f8-4adf-a444-fbe40acff146"
      },
      "source": [
        "print A"
      ],
      "execution_count": null,
      "outputs": [
        {
          "output_type": "stream",
          "text": [
            "[[1 2]\n",
            " [3 4]]\n"
          ],
          "name": "stdout"
        }
      ]
    },
    {
      "cell_type": "code",
      "metadata": {
        "id": "unUMA1O8n_hy",
        "colab": {
          "base_uri": "https://localhost:8080/"
        },
        "outputId": "26838db1-e43c-494f-eac5-6f600c40d74c"
      },
      "source": [
        "print B"
      ],
      "execution_count": null,
      "outputs": [
        {
          "output_type": "stream",
          "text": [
            "[[1 1]\n",
            " [1 1]]\n"
          ],
          "name": "stdout"
        }
      ]
    },
    {
      "cell_type": "code",
      "metadata": {
        "id": "FbhbYhH0n_hy",
        "colab": {
          "base_uri": "https://localhost:8080/"
        },
        "outputId": "28713480-d105-4975-cddf-0db8879b3cce"
      },
      "source": [
        "# Element-wise sum\n",
        "C = A + B\n",
        "print C"
      ],
      "execution_count": null,
      "outputs": [
        {
          "output_type": "stream",
          "text": [
            "[[2 3]\n",
            " [4 5]]\n"
          ],
          "name": "stdout"
        }
      ]
    },
    {
      "cell_type": "code",
      "metadata": {
        "id": "j4Vh5D4on_hy",
        "colab": {
          "base_uri": "https://localhost:8080/"
        },
        "outputId": "9d273940-cd00-4c0d-e30d-adce153366f0"
      },
      "source": [
        "# Element-wise subtraction\n",
        "C = A - B\n",
        "print C"
      ],
      "execution_count": null,
      "outputs": [
        {
          "output_type": "stream",
          "text": [
            "[[0 1]\n",
            " [2 3]]\n"
          ],
          "name": "stdout"
        }
      ]
    },
    {
      "cell_type": "code",
      "metadata": {
        "id": "HiFZEUOtn_hy",
        "colab": {
          "base_uri": "https://localhost:8080/"
        },
        "outputId": "c1a5992c-f784-45fc-df49-88d998e20ac0"
      },
      "source": [
        "# matrix multiplication\n",
        "C = A*B\n",
        "print C"
      ],
      "execution_count": null,
      "outputs": [
        {
          "output_type": "stream",
          "text": [
            "[[3 3]\n",
            " [7 7]]\n"
          ],
          "name": "stdout"
        }
      ]
    },
    {
      "cell_type": "code",
      "metadata": {
        "colab": {
          "base_uri": "https://localhost:8080/"
        },
        "id": "U2ilvvaZnFxS",
        "outputId": "688ad26d-1561-49d2-f142-0e478f3d702e"
      },
      "source": [
        "np.dot(3, 4)"
      ],
      "execution_count": null,
      "outputs": [
        {
          "output_type": "execute_result",
          "data": {
            "text/plain": [
              "12"
            ]
          },
          "metadata": {
            "tags": []
          },
          "execution_count": 43
        }
      ]
    },
    {
      "cell_type": "code",
      "metadata": {
        "colab": {
          "base_uri": "https://localhost:8080/"
        },
        "id": "8ffmPDwEn67Q",
        "outputId": "51df8d70-d7cc-4e96-cb3f-356327acb976"
      },
      "source": [
        "np.dot(A,B)"
      ],
      "execution_count": null,
      "outputs": [
        {
          "output_type": "execute_result",
          "data": {
            "text/plain": [
              "matrix([[3, 3],\n",
              "        [7, 7]])"
            ]
          },
          "metadata": {
            "tags": []
          },
          "execution_count": 44
        }
      ]
    },
    {
      "cell_type": "code",
      "metadata": {
        "colab": {
          "base_uri": "https://localhost:8080/"
        },
        "id": "VKDkY3YpoUsd",
        "outputId": "155c73b0-2c05-4063-a385-d33cc1c0b67f"
      },
      "source": [
        "np.dot([2j, 3j], [2j, 3j])"
      ],
      "execution_count": null,
      "outputs": [
        {
          "output_type": "execute_result",
          "data": {
            "text/plain": [
              "(-13+0j)"
            ]
          },
          "metadata": {
            "tags": []
          },
          "execution_count": 45
        }
      ]
    },
    {
      "cell_type": "code",
      "metadata": {
        "id": "c8RWm-0Uoeyc"
      },
      "source": [
        "https://numpy.org/doc/stable/reference/generated/numpy.dot.html"
      ],
      "execution_count": null,
      "outputs": []
    },
    {
      "cell_type": "markdown",
      "metadata": {
        "id": "pL-7eTFIn_hy"
      },
      "source": [
        "### 4. The Matrix Transpose\n",
        "\n",
        "A transpose is used to flip the rows and columns of an array.  Using NumPy, finding the transpose of a matrix is quick and efficient."
      ]
    },
    {
      "cell_type": "code",
      "metadata": {
        "id": "XsDeJ-06n_hy",
        "colab": {
          "base_uri": "https://localhost:8080/"
        },
        "outputId": "8ca4861b-c9c3-4cde-cc2e-c110cb8407aa"
      },
      "source": [
        "A = np.array(range(9))\n",
        "A = A.reshape(3,3)\n",
        "print A"
      ],
      "execution_count": null,
      "outputs": [
        {
          "output_type": "stream",
          "text": [
            "[[0 1 2]\n",
            " [3 4 5]\n",
            " [6 7 8]]\n"
          ],
          "name": "stdout"
        }
      ]
    },
    {
      "cell_type": "code",
      "metadata": {
        "id": "Nb6mEFFPn_hy",
        "colab": {
          "base_uri": "https://localhost:8080/"
        },
        "outputId": "690b2a32-801a-4e2e-811a-ee6be91a0b36"
      },
      "source": [
        "# calculate tranpose of A\n",
        "B = A.T\n",
        "print B"
      ],
      "execution_count": null,
      "outputs": [
        {
          "output_type": "stream",
          "text": [
            "[[0 3 6]\n",
            " [1 4 7]\n",
            " [2 5 8]]\n"
          ],
          "name": "stdout"
        }
      ]
    },
    {
      "cell_type": "code",
      "metadata": {
        "id": "53avXP76n_hz",
        "colab": {
          "base_uri": "https://localhost:8080/"
        },
        "outputId": "68794d65-8ace-4c27-9a62-9a265f2a5cdc"
      },
      "source": [
        "# taking the tranpose twice will return the original matrix\n",
        "C = B.T\n",
        "print C"
      ],
      "execution_count": null,
      "outputs": [
        {
          "output_type": "stream",
          "text": [
            "[[0 1 2]\n",
            " [3 4 5]\n",
            " [6 7 8]]\n"
          ],
          "name": "stdout"
        }
      ]
    },
    {
      "cell_type": "code",
      "metadata": {
        "id": "mnq-JsCLn_hz",
        "colab": {
          "base_uri": "https://localhost:8080/"
        },
        "outputId": "802f26a5-096f-46b3-ec27-6c04a708e307"
      },
      "source": [
        "# The transpose will work arrays of any dimension\n",
        "A = np.array(range(10))\n",
        "A = A.reshape(2,5)\n",
        "print A"
      ],
      "execution_count": null,
      "outputs": [
        {
          "output_type": "stream",
          "text": [
            "[[0 1 2 3 4]\n",
            " [5 6 7 8 9]]\n"
          ],
          "name": "stdout"
        }
      ]
    },
    {
      "cell_type": "code",
      "metadata": {
        "id": "jdHXHLGun_hz",
        "colab": {
          "base_uri": "https://localhost:8080/"
        },
        "outputId": "77745e3f-0b07-473b-d521-f26182af464b"
      },
      "source": [
        "# create a column vector by taking the transpose\n",
        "B = A.T\n",
        "print B"
      ],
      "execution_count": null,
      "outputs": [
        {
          "output_type": "stream",
          "text": [
            "[[0 5]\n",
            " [1 6]\n",
            " [2 7]\n",
            " [3 8]\n",
            " [4 9]]\n"
          ],
          "name": "stdout"
        }
      ]
    },
    {
      "cell_type": "markdown",
      "metadata": {
        "id": "XjaGA-GDn_hz"
      },
      "source": [
        "### 5. Tensors with Higher Dimensions!\n",
        "\n",
        "While it's very difficult to visualize higher dimensions, NumPy can handle arrays that have any dimensions.  To demonstrate this, create an array with ten dimensions in the cell below."
      ]
    },
    {
      "cell_type": "code",
      "metadata": {
        "id": "cyHncFyMn_hz"
      },
      "source": [
        "A = np.ones((3,3,3,3,3,3,3,3,3,3))"
      ],
      "execution_count": null,
      "outputs": []
    },
    {
      "cell_type": "code",
      "metadata": {
        "id": "XvOfSYBun_hz",
        "colab": {
          "base_uri": "https://localhost:8080/"
        },
        "outputId": "361d3df3-c120-419c-b893-f5b5c0a2ccdb"
      },
      "source": [
        "print A.shape\n",
        "print(len(A.shape))\n",
        "print A.size"
      ],
      "execution_count": null,
      "outputs": [
        {
          "output_type": "stream",
          "text": [
            "(3, 3, 3, 3, 3, 3, 3, 3, 3, 3)\n",
            "10\n",
            "59049\n"
          ],
          "name": "stdout"
        }
      ]
    },
    {
      "cell_type": "code",
      "metadata": {
        "id": "XfdtSs7Zn_hz"
      },
      "source": [
        ""
      ],
      "execution_count": null,
      "outputs": []
    }
  ]
}